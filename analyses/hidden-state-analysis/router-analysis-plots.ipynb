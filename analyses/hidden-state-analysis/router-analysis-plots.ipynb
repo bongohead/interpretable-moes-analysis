{
 "cells": [
  {
   "cell_type": "code",
   "execution_count": null,
   "id": "49f6b546",
   "metadata": {
    "vscode": {
     "languageId": "r"
    }
   },
   "outputs": [],
   "source": [
    "library(tidyverse)\n",
    "library(fs)\n",
    "library(extrafont)\n",
    "library(ggtext)\n",
    "\n",
    "source('./../../r-utils/plots.r')"
   ]
  },
  {
   "cell_type": "markdown",
   "id": "f36cf698",
   "metadata": {},
   "source": [
    "## Transitions"
   ]
  },
  {
   "cell_type": "code",
   "execution_count": null,
   "id": "4a46990f",
   "metadata": {
    "vscode": {
     "languageId": "r"
    }
   },
   "outputs": [],
   "source": [
    "saturation_df =\n",
    "    dir_ls('exports/', regexp = '^exports/router-saturation-.*\\\\.csv$') %>%\n",
    "    set_names(., str_extract(path_file(.), '(?<=^router-saturation-).*(?=\\\\.csv$)')) %>%\n",
    "    imap(function(x, i) {\n",
    "        read_csv(x) %>% mutate(model = i)\n",
    "    }) %>%\n",
    "    list_rbind()\n",
    "\n",
    "head(saturation_df)"
   ]
  },
  {
   "cell_type": "code",
   "execution_count": null,
   "id": "b0e046dc",
   "metadata": {
    "vscode": {
     "languageId": "r"
    }
   },
   "outputs": [],
   "source": [
    "plot = \n",
    "    saturation_df %>%\n",
    "    filter(pct_dims <= 40) %>%\n",
    "    mutate(accuracy = accuracy * 100) %>%\n",
    "    mutate(model = fct_relevel(model, 'olmoe', 'qwen1.5moe', 'dsv2', 'qwen3moe')) %>%\n",
    "    ggplot() + \n",
    "    geom_line(aes(x = pct_dims, y = accuracy, color = model, group = model), linewidth = 1.0) +\n",
    "    geom_point(aes(x = pct_dims, y = accuracy, color = model, group = model), size = 2.0) +\n",
    "    scale_color_manual(\n",
    "        labels = c(`olmoe` = 'OlMoE', `qwen1.5moe` = 'Qwen1.5MoE', `dsv2` = 'DSv2-Lite', `qwen3moe` = 'Qwen3MoE'),\n",
    "        values = c(`olmoe` = '#544fc5', `qwen1.5moe` = '#00e272', `dsv2` = '#fe6a35', `qwen3moe` = '#2caffe')\n",
    "    ) +\n",
    "    scale_x_continuous(\n",
    "        breaks = seq(0, 100, 8),\n",
    "        labels = function(x) paste0(x, '%')\n",
    "    ) +\n",
    "    # scale_x_log10(\n",
    "    #     limits = c(0.001, 20),  # Focus on 0.5% to 20%\n",
    "    #     breaks = c(0, 0.1, 1, 2, 5, 10, 20),\n",
    "    #     labels = function(x) paste0(x, '%')\n",
    "    # ) +\n",
    "    scale_y_continuous(\n",
    "        limits = c(0, 100),\n",
    "        breaks = seq(0, 100, 20),\n",
    "        labels = function(x) paste0(x, '%')\n",
    "    ) +\n",
    "    labs(title = NULL, color = NULL, x = 'Fraction of highest-magnitude dimensions', y = 'Probe accuracy') +\n",
    "    theme_iclr(base_size = 11)\n",
    "\n",
    "ggsave(\n",
    "    str_glue('exports/router-saturation-md.pdf'),\n",
    "    plot = plot, \n",
    "    width = 7, height = 3.0,\n",
    "    units = 'in', dpi = 300,\n",
    "    device = cairo_pdf\n",
    ")\n",
    "ggsave(\n",
    "    str_glue('exports/router-saturation-md.png'),\n",
    "    plot = plot, \n",
    "    width = 7, height = 3.0,\n",
    "    units = \"in\", dpi = 300\n",
    ")\n",
    "\n",
    "plot"
   ]
  }
 ],
 "metadata": {
  "kernelspec": {
   "display_name": "R",
   "language": "R",
   "name": "ir"
  },
  "language_info": {
   "codemirror_mode": "r",
   "file_extension": ".r",
   "mimetype": "text/x-r-source",
   "name": "R",
   "pygments_lexer": "r",
   "version": "4.5.0"
  }
 },
 "nbformat": 4,
 "nbformat_minor": 5
}
