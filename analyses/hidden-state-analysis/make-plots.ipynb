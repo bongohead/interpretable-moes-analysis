{
 "cells": [
  {
   "cell_type": "code",
   "execution_count": null,
   "id": "49f6b546",
   "metadata": {
    "vscode": {
     "languageId": "r"
    }
   },
   "outputs": [],
   "source": [
    "library(tidyverse)\n",
    "library(fs)\n",
    "library(extrafont)\n",
    "#font_import() Only run once. May need to run apt install fonts-cmu "
   ]
  },
  {
   "cell_type": "markdown",
   "id": "f36cf698",
   "metadata": {},
   "source": [
    "## Transitions"
   ]
  },
  {
   "cell_type": "code",
   "execution_count": null,
   "id": "4a46990f",
   "metadata": {
    "vscode": {
     "languageId": "r"
    }
   },
   "outputs": [],
   "source": [
    "transition_df =\n",
    "    dir_ls('exports/', regexp = '^exports/transition-stability-.*\\\\.csv$') %>%\n",
    "    set_names(., str_extract(path_file(.), '(?<=^transition-stability-).*(?=\\\\.csv$)')) %>%\n",
    "    imap(function(x, i) {\n",
    "        read_csv(x) %>%\n",
    "            mutate(model = i)\n",
    "    }) %>%\n",
    "    list_rbind()"
   ]
  },
  {
   "cell_type": "code",
   "execution_count": null,
   "id": "2a59a181",
   "metadata": {
    "vscode": {
     "languageId": "r"
    }
   },
   "outputs": [],
   "source": [
    "base_font_family = 'CMU Serif'\n",
    "base_font_size = 11\n",
    "\n",
    "plots = map(group_split(transition_df, model), function(model_transition_df) {\n",
    "    model_prefix = model_transition_df$model[[1]]\n",
    "\n",
    "    plot = \n",
    "        bind_rows(\n",
    "            model_transition_df %>%\n",
    "                transmute(model, layer_ix, component = 'h_para', mean = para_mean_across_layers, upper = mean + para_cis, lower = mean - para_cis),\n",
    "            model_transition_df %>%\n",
    "                transmute(model, layer_ix, component = 'h_orth', mean = orth_mean_across_layers, upper = mean + orth_cis, lower = mean - orth_cis)\n",
    "        ) %>%\n",
    "        ggplot() + \n",
    "        labs(\n",
    "            title = NULL,\n",
    "            color = NULL, fill = NULL,\n",
    "            x = 'Layer index',\n",
    "            y = 'Cosine similarity to previous layer'\n",
    "        ) +\n",
    "        geom_line(aes(x = layer_ix, y = mean, group = component, color = component), linewidth = 0.8) +\n",
    "        geom_point(aes(x = layer_ix, y = mean, group = component, color = component), shape = 16, size = 2) +\n",
    "        geom_ribbon(aes(x = layer_ix, ymin = lower, ymax = upper, fill = component), alpha = 0.25, linetype = 'blank', color = NA) +\n",
    "        scale_color_manual(\n",
    "            labels = c(h_para = 'Parallel component', h_orth = 'Orthogonal component'),\n",
    "            values = c(h_para = '#E69F00', h_orth = '#56B4E9')\n",
    "        ) +\n",
    "        scale_fill_manual(\n",
    "            labels = c(h_para = 'Parallel component', h_orth = 'Orthogonal component'),\n",
    "            values = c(h_para = '#E69F00', h_orth = '#56B4E9')\n",
    "        ) +\n",
    "        theme_bw(base_size = base_font_size, base_family = base_font_family) + \n",
    "        theme(\n",
    "            plot.title = element_blank(), \n",
    "            plot.subtitle = element_blank(),\n",
    "            \n",
    "            axis.title = element_text(face = 'plain', size = rel(1.0)), \n",
    "            axis.text.x = element_text(angle = 45, hjust = 1, vjust = 1, size = rel(0.9)),\n",
    "            axis.text.y = element_text(size = rel(0.9)),\n",
    "            \n",
    "            legend.position = \"bottom\", # Or \"bottom\"\n",
    "            legend.title = element_text(face = \"bold\", size = rel(0.9)),\n",
    "            legend.text = element_text(size = rel(0.85)),\n",
    "            legend.background = element_rect(fill=\"white\", color = \"grey90\", linewidth=0.2), # Subtle legend box\n",
    "            legend.key.size = unit(0.8, \"lines\"),\n",
    "\n",
    "            panel.grid.major = element_line(colour = \"grey85\", linewidth = 0.3), # Lighter, thinner major grid\n",
    "            panel.grid.minor = element_blank(),\n",
    "            panel.border = element_rect(colour = \"grey70\", fill=NA, linewidth=0.5), # Add back a border\n",
    "            \n",
    "            strip.background = element_blank(),\n",
    "            strip.text = element_text(face = \"bold\", size = rel(1.0))\n",
    "        )\n",
    "\n",
    "    ggsave(\n",
    "        str_glue('exports/transition-{model_prefix}-md.pdf'),\n",
    "        plot = plot, \n",
    "        width = 800/100, height = 500/100,\n",
    "        units = \"in\", dpi = 300,\n",
    "        device = cairo_pdf\n",
    "    )\n",
    "    ggsave(\n",
    "        str_glue('exports/transition-{model_prefix}-md.png'),\n",
    "        plot = plot, \n",
    "        width = 800/100, height = 500/100,\n",
    "        units = \"in\", dpi = 300\n",
    "    )\n",
    "    print(plot)\n",
    "\n",
    "    return(plot)\n",
    "    })\n"
   ]
  },
  {
   "cell_type": "markdown",
   "id": "98df8bd0",
   "metadata": {},
   "source": []
  }
 ],
 "metadata": {
  "kernelspec": {
   "display_name": "R",
   "language": "R",
   "name": "ir"
  },
  "language_info": {
   "codemirror_mode": "r",
   "file_extension": ".r",
   "mimetype": "text/x-r-source",
   "name": "R",
   "pygments_lexer": "r",
   "version": "4.5.0"
  }
 },
 "nbformat": 4,
 "nbformat_minor": 5
}
