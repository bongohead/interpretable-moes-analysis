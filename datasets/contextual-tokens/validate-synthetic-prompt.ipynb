{
 "cells": [
  {
   "cell_type": "code",
   "execution_count": 1,
   "metadata": {},
   "outputs": [],
   "source": [
    "import yaml\n",
    "from transformers import AutoTokenizer\n",
    "\n",
    "tokenizer = AutoTokenizer.from_pretrained('allenai/OLMoE-1B-7B-0924', add_eos_token = False, add_bos_token = False)"
   ]
  },
  {
   "cell_type": "code",
   "execution_count": 23,
   "metadata": {},
   "outputs": [
    {
     "name": "stdout",
     "output_type": "stream",
     "text": [
      "Total count 139\n",
      "Total count 155\n",
      "Total count 162\n"
     ]
    }
   ],
   "source": [
    "with open(\"./../../datasets/contextual-tokens/samples_build.yaml\", \"r\", encoding=\"utf-8\") as f:\n",
    "    token_info = yaml.safe_load(f)[0]\n",
    "\n",
    "test_token = token_info['token']\n",
    "test_meanings = token_info['meanings']\n",
    "\n",
    "# Check that 'test_token' is recognized by the tokenizer as exactly one token\n",
    "encoded_token = tokenizer(test_token, add_special_tokens = False)\n",
    "if len(encoded_token[\"input_ids\"]) != 1:\n",
    "    print(f'Warning: {test_token} is not tokenized as a single token, skipping')\n",
    "test_token_id = encoded_token[\"input_ids\"][0]\n",
    "\n",
    "# For each meaning, sum how many occurrences of token_id appear across all text_samples\n",
    "all_meanings_ok = True\n",
    "for meaning in test_meanings:\n",
    "    total_occurrences = 0\n",
    "    for sample_text in meaning['text_samples']:\n",
    "        encoded_sample = tokenizer(sample_text, add_special_tokens = False, truncation = True, max_length = 512)\n",
    "        total_occurrences += encoded_sample[\"input_ids\"].count(test_token_id)\n",
    "\n",
    "    if total_occurrences < 40:\n",
    "        all_meanings_ok = False\n",
    "        print('Error - less than 40 valid meanings')\n",
    "    else:\n",
    "        print(f'Total count {str(total_occurrences)}')\n",
    "# If any meaning fails the minimum occurrences, discard this file\n",
    "if not all_meanings_ok:\n",
    "    print(f'Warning: Minimum token count not met for token {test_token}')"
   ]
  },
  {
   "cell_type": "code",
   "execution_count": 21,
   "metadata": {},
   "outputs": [
    {
     "name": "stdout",
     "output_type": "stream",
     "text": [
      "25521 | hello\n",
      "3736 | ?\n"
     ]
    }
   ],
   "source": [
    "test_str = tokenizer.encode(\"hello ?\")\n",
    "\n",
    "for j in test_str:\n",
    "    print(str(j) + ' | ' + tokenizer.decode(j))"
   ]
  },
  {
   "cell_type": "code",
   "execution_count": null,
   "metadata": {},
   "outputs": [],
   "source": [
    "tokenizer.encode()"
   ]
  }
 ],
 "metadata": {
  "kernelspec": {
   "display_name": "Python 3",
   "language": "python",
   "name": "python3"
  },
  "language_info": {
   "codemirror_mode": {
    "name": "ipython",
    "version": 3
   },
   "file_extension": ".py",
   "mimetype": "text/x-python",
   "name": "python",
   "nbconvert_exporter": "python",
   "pygments_lexer": "ipython3",
   "version": "3.12.9"
  }
 },
 "nbformat": 4,
 "nbformat_minor": 2
}
